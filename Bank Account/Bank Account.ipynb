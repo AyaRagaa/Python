{
 "cells": [
  {
   "cell_type": "code",
   "execution_count": 1,
   "metadata": {},
   "outputs": [],
   "source": [
    "class BankAccount:\n",
    "    n_of_accounts = 0\n",
    "\n",
    "    def __init__(self, username, password, full_name):\n",
    "        self.__balance = 0.0\n",
    "        self.__username = username\n",
    "        self.__password = password\n",
    "        self.__fullname = full_name\n",
    "        BankAccount.n_of_accounts += 1\n",
    "\n",
    "    def deposit(self, amount):\n",
    "        self.__balance += amount\n",
    "\n",
    "    def withdraw(self,amount):\n",
    "\n",
    "        if self.__balance < amount:\n",
    "            print(\"Insufficient Withdrawal Amount\")\n",
    "            return \n",
    "\n",
    "        self.__balance -= amount\n",
    "\n",
    "    def get_balance(self):\n",
    "        return self.__balance\n",
    "      \n",
    "    def  check_login(self, username, password):\n",
    "        \n",
    "        if self.__username == username and self.__password == password:\n",
    "            return True\n",
    "        \n",
    "        return  False  \n",
    "    "
   ]
  },
  {
   "cell_type": "code",
   "execution_count": 2,
   "metadata": {},
   "outputs": [
    {
     "name": "stdout",
     "output_type": "stream",
     "text": [
      "\n",
      "\n",
      "1 . Create New Account\n",
      "2 . Login\n",
      "3 . Exit\n"
     ]
    },
    {
     "name": "stdin",
     "output_type": "stream",
     "text": [
      "Choose a number from the previous options :  4\n"
     ]
    },
    {
     "name": "stdout",
     "output_type": "stream",
     "text": [
      "\n",
      "\n",
      "Invalid option !\n",
      "1 . Create New Account\n",
      "2 . Login\n",
      "3 . Exit\n"
     ]
    },
    {
     "name": "stdin",
     "output_type": "stream",
     "text": [
      "Choose a number from the previous options :  1\n",
      "\n",
      "\n",
      "Enter your Username:  Aya\n",
      "Enter your password:  123\n",
      "Enter your full name:  Aya Ragaa\n"
     ]
    },
    {
     "name": "stdout",
     "output_type": "stream",
     "text": [
      "\n",
      "Your account has been created successfully.\n",
      "\n",
      "\n",
      "1 . Deposit\n",
      "2 . Withdraw\n",
      "3 . Get Balance\n",
      "4 . Logout\n"
     ]
    },
    {
     "name": "stdin",
     "output_type": "stream",
     "text": [
      "Choose a number from the previous options :  1\n",
      "\n",
      "Enter the deposit amount :  1000\n"
     ]
    },
    {
     "name": "stdout",
     "output_type": "stream",
     "text": [
      "\n",
      "\n",
      "1 . Deposit\n",
      "2 . Withdraw\n",
      "3 . Get Balance\n",
      "4 . Logout\n"
     ]
    },
    {
     "name": "stdin",
     "output_type": "stream",
     "text": [
      "Choose a number from the previous options :  3\n"
     ]
    },
    {
     "name": "stdout",
     "output_type": "stream",
     "text": [
      "\n",
      "Your current balance is  1000.0\n",
      "\n",
      "\n",
      "1 . Deposit\n",
      "2 . Withdraw\n",
      "3 . Get Balance\n",
      "4 . Logout\n"
     ]
    },
    {
     "name": "stdin",
     "output_type": "stream",
     "text": [
      "Choose a number from the previous options :  2\n",
      "\n",
      "Enter the withdrawal amount :  2000\n"
     ]
    },
    {
     "name": "stdout",
     "output_type": "stream",
     "text": [
      "Insufficient Withdrawal Amount\n",
      "\n",
      "\n",
      "1 . Deposit\n",
      "2 . Withdraw\n",
      "3 . Get Balance\n",
      "4 . Logout\n"
     ]
    },
    {
     "name": "stdin",
     "output_type": "stream",
     "text": [
      "Choose a number from the previous options :  3\n"
     ]
    },
    {
     "name": "stdout",
     "output_type": "stream",
     "text": [
      "\n",
      "Your current balance is  1000.0\n",
      "\n",
      "\n",
      "1 . Deposit\n",
      "2 . Withdraw\n",
      "3 . Get Balance\n",
      "4 . Logout\n"
     ]
    },
    {
     "name": "stdin",
     "output_type": "stream",
     "text": [
      "Choose a number from the previous options :  2\n",
      "\n",
      "Enter the withdrawal amount :  200\n"
     ]
    },
    {
     "name": "stdout",
     "output_type": "stream",
     "text": [
      "\n",
      "\n",
      "1 . Deposit\n",
      "2 . Withdraw\n",
      "3 . Get Balance\n",
      "4 . Logout\n"
     ]
    },
    {
     "name": "stdin",
     "output_type": "stream",
     "text": [
      "Choose a number from the previous options :  3\n"
     ]
    },
    {
     "name": "stdout",
     "output_type": "stream",
     "text": [
      "\n",
      "Your current balance is  800.0\n",
      "\n",
      "\n",
      "1 . Deposit\n",
      "2 . Withdraw\n",
      "3 . Get Balance\n",
      "4 . Logout\n"
     ]
    },
    {
     "name": "stdin",
     "output_type": "stream",
     "text": [
      "Choose a number from the previous options :  4\n"
     ]
    },
    {
     "name": "stdout",
     "output_type": "stream",
     "text": [
      "\n",
      "\n",
      "1 . Create New Account\n",
      "2 . Login\n",
      "3 . Exit\n"
     ]
    },
    {
     "name": "stdin",
     "output_type": "stream",
     "text": [
      "Choose a number from the previous options :  1\n",
      "\n",
      "\n",
      "Enter your Username:  Aya\n",
      "Enter your password:  111\n",
      "Enter your full name:  Aya Amr\n"
     ]
    },
    {
     "name": "stdout",
     "output_type": "stream",
     "text": [
      "\n",
      "\n",
      "Username Already Exists\n"
     ]
    },
    {
     "name": "stdin",
     "output_type": "stream",
     "text": [
      "Enter your Username:  A\n"
     ]
    },
    {
     "name": "stdout",
     "output_type": "stream",
     "text": [
      "\n",
      "Your account has been created successfully.\n",
      "\n",
      "\n",
      "1 . Deposit\n",
      "2 . Withdraw\n",
      "3 . Get Balance\n",
      "4 . Logout\n"
     ]
    },
    {
     "name": "stdin",
     "output_type": "stream",
     "text": [
      "Choose a number from the previous options :  4\n"
     ]
    },
    {
     "name": "stdout",
     "output_type": "stream",
     "text": [
      "\n",
      "\n",
      "1 . Create New Account\n",
      "2 . Login\n",
      "3 . Exit\n"
     ]
    },
    {
     "name": "stdin",
     "output_type": "stream",
     "text": [
      "Choose a number from the previous options :  2\n"
     ]
    },
    {
     "name": "stdout",
     "output_type": "stream",
     "text": [
      "\n",
      "\n",
      "Login\n"
     ]
    },
    {
     "name": "stdin",
     "output_type": "stream",
     "text": [
      "Enter your username:  Aya\n",
      "Enter your password:  12\n"
     ]
    },
    {
     "name": "stdout",
     "output_type": "stream",
     "text": [
      "\n",
      "\n",
      "Invalid Username or Password !\n"
     ]
    },
    {
     "name": "stdin",
     "output_type": "stream",
     "text": [
      "Enter your username:  qq\n",
      "Enter your password:  12\n"
     ]
    },
    {
     "name": "stdout",
     "output_type": "stream",
     "text": [
      "\n",
      "\n",
      "Invalid Username or Password !\n"
     ]
    },
    {
     "name": "stdin",
     "output_type": "stream",
     "text": [
      "Enter your username:  Aya\n",
      "Enter your password:  123\n"
     ]
    },
    {
     "name": "stdout",
     "output_type": "stream",
     "text": [
      "\n",
      "\n",
      "1 . Deposit\n",
      "2 . Withdraw\n",
      "3 . Get Balance\n",
      "4 . Logout\n"
     ]
    },
    {
     "name": "stdin",
     "output_type": "stream",
     "text": [
      "Choose a number from the previous options :  3\n"
     ]
    },
    {
     "name": "stdout",
     "output_type": "stream",
     "text": [
      "\n",
      "Your current balance is  800.0\n",
      "\n",
      "\n",
      "1 . Deposit\n",
      "2 . Withdraw\n",
      "3 . Get Balance\n",
      "4 . Logout\n"
     ]
    },
    {
     "name": "stdin",
     "output_type": "stream",
     "text": [
      "Choose a number from the previous options :  1\n",
      "\n",
      "Enter the deposit amount :  1000\n"
     ]
    },
    {
     "name": "stdout",
     "output_type": "stream",
     "text": [
      "\n",
      "\n",
      "1 . Deposit\n",
      "2 . Withdraw\n",
      "3 . Get Balance\n",
      "4 . Logout\n"
     ]
    },
    {
     "name": "stdin",
     "output_type": "stream",
     "text": [
      "Choose a number from the previous options :  3\n"
     ]
    },
    {
     "name": "stdout",
     "output_type": "stream",
     "text": [
      "\n",
      "Your current balance is  1800.0\n",
      "\n",
      "\n",
      "1 . Deposit\n",
      "2 . Withdraw\n",
      "3 . Get Balance\n",
      "4 . Logout\n"
     ]
    },
    {
     "name": "stdin",
     "output_type": "stream",
     "text": [
      "Choose a number from the previous options :  4\n"
     ]
    },
    {
     "name": "stdout",
     "output_type": "stream",
     "text": [
      "\n",
      "\n",
      "1 . Create New Account\n",
      "2 . Login\n",
      "3 . Exit\n"
     ]
    },
    {
     "name": "stdin",
     "output_type": "stream",
     "text": [
      "Choose a number from the previous options :  3\n"
     ]
    }
   ],
   "source": [
    "def check_option_validity(x, lst):\n",
    "\n",
    "    if x in lst:\n",
    "        return True\n",
    "    \n",
    "    return False\n",
    "\n",
    "def home_page(acc):\n",
    "    logout = False\n",
    "\n",
    "    while not logout:\n",
    "        print(\"\\n\\n1 . Deposit\\n2 . Withdraw\\n3 . Get Balance\\n4 . Logout\")\n",
    "        x = int(input(\"Choose a number from the previous options : \"))\n",
    "\n",
    "        while not check_option_validity(x, [1, 2, 3, 4]):\n",
    "\n",
    "            print(\"\\n\\nInvalid option !\")\n",
    "            print(\"1 . Deposit\\n2 . Withdraw\\n3 . Get Balance\\n4 . Logout\")\n",
    "            x = int(input(\"Choose a number from the previous options : \"))\n",
    "\n",
    "        if x == 4:\n",
    "            return\n",
    "        \n",
    "        elif x == 1:\n",
    "            dep = int(input(\"\\nEnter the deposit amount : \"))\n",
    "            acc.deposit(dep)\n",
    "            \n",
    "        elif x == 2:\n",
    "            withd = float(input(\"\\nEnter the withdrawal amount : \"))\n",
    "            acc.withdraw(withd)\n",
    "\n",
    "        else: # x == 3\n",
    "            bal = acc.get_balance()\n",
    "            print(\"\\nYour current balance is \", bal)\n",
    "\n",
    "accounts = {}\n",
    "\n",
    "exit_flag = False\n",
    "\n",
    "while not exit_flag:\n",
    "    print(\"\\n\\n1 . Create New Account\\n2 . Login\\n3 . Exit\")\n",
    "    x = int(input(\"Choose a number from the previous options : \"))\n",
    "\n",
    "    while not check_option_validity(x, [1,2,3]):\n",
    "        print(\"\\n\\nInvalid option !\")\n",
    "        print(\"1 . Create New Account\\n2 . Login\\n3 . Exit\")\n",
    "        x = int(input(\"Choose a number from the previous options : \"))\n",
    "\n",
    "    if x == 3:\n",
    "        exit_flag = True\n",
    "\n",
    "    elif  x == 1:\n",
    "        username = input(\"\\n\\nEnter your Username: \")\n",
    "        password = input(\"Enter your password: \")\n",
    "        full_name = input(\"Enter your full name: \")\n",
    "\n",
    "        while username in accounts:\n",
    "            print(\"\\n\\nUsername Already Exists\")\n",
    "            username = input(\"Enter your Username: \")\n",
    "\n",
    "        acc = BankAccount(username, password, full_name)\n",
    "        accounts[username] = acc \n",
    "        print(\"\\nYour account has been created successfully.\")\n",
    "\n",
    "        home_page(acc)\n",
    "\n",
    "    else: # x==2\n",
    "        print(\"\\n\\nLogin\")\n",
    "        username = input(\"Enter your username: \")\n",
    "        password = input(\"Enter your password: \")\n",
    "\n",
    "        while username not in accounts:\n",
    "            print(\"\\n\\nUsername Doesn't Exist\")\n",
    "            username = input(\"Enter your username: \")\n",
    "            password = input(\"Enter your password: \")\n",
    "\n",
    "        acc = accounts[username]\n",
    "\n",
    "        while not acc.check_login(username,password):\n",
    "            print(\"\\n\\nInvalid Username or Password !\")\n",
    "            username = input(\"Enter your username: \")\n",
    "            password = input(\"Enter your password: \")\n",
    "        \n",
    "        home_page(acc)\n",
    "        \n",
    "\n"
   ]
  },
  {
   "cell_type": "code",
   "execution_count": null,
   "metadata": {},
   "outputs": [],
   "source": []
  }
 ],
 "metadata": {
  "kernelspec": {
   "display_name": "Python 3 (ipykernel)",
   "language": "python",
   "name": "python3"
  },
  "language_info": {
   "codemirror_mode": {
    "name": "ipython",
    "version": 3
   },
   "file_extension": ".py",
   "mimetype": "text/x-python",
   "name": "python",
   "nbconvert_exporter": "python",
   "pygments_lexer": "ipython3",
   "version": "3.11.7"
  }
 },
 "nbformat": 4,
 "nbformat_minor": 4
}
