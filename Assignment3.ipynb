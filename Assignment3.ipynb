{
 "cells": [
  {
   "cell_type": "markdown",
   "id": "148bc96a",
   "metadata": {},
   "source": [
    "# Task1\n",
    "Implement Fibonacci series using recursion."
   ]
  },
  {
   "cell_type": "code",
   "execution_count": 3,
   "id": "1b68769b",
   "metadata": {},
   "outputs": [
    {
     "name": "stdout",
     "output_type": "stream",
     "text": [
      "8\n"
     ]
    }
   ],
   "source": [
    "def fib(x):\n",
    "\n",
    "    if x < 2: return x\n",
    "    \n",
    "    else: return fib(x-1) + fib(x-2)\n",
    "\n",
    "print(fib(6))"
   ]
  },
  {
   "cell_type": "markdown",
   "id": "7f183270",
   "metadata": {},
   "source": [
    "# Task2\n",
    "Write a Python program to find all the unique words and count the frequency of \n",
    "occurrence from a given list of strings."
   ]
  },
  {
   "cell_type": "code",
   "execution_count": 22,
   "id": "d0dd47f9",
   "metadata": {},
   "outputs": [
    {
     "name": "stdout",
     "output_type": "stream",
     "text": [
      "Unique words:  ['ccc']\n",
      "Frequencies of the non-unique words:  {'aaa': 4, 'bbb': 2}\n"
     ]
    }
   ],
   "source": [
    "def find_unique_and_get_freq(lst_of_str):\n",
    "    unique = []\n",
    "    word_frequencies = {}\n",
    "\n",
    "    for string in lst_of_str:\n",
    "        words = string.split(\" \")\n",
    "\n",
    "        for word in words:\n",
    "\n",
    "            if word not in word_frequencies:\n",
    "                word_frequencies[word] = 1\n",
    "\n",
    "            else:\n",
    "                word_frequencies[word] += 1\n",
    "    \n",
    "    for word in word_frequencies:\n",
    "        if word_frequencies[word] == 1:\n",
    "            unique.append(word)\n",
    "\n",
    "    for word in unique:\n",
    "        del word_frequencies[word]\n",
    "\n",
    "\n",
    "    return unique, word_frequencies\n",
    "\n",
    "unique , frequencies = find_unique_and_get_freq([\"aaa aaa aaa\",\"aaa bbb bbb ccc\"])\n",
    "print(\"Unique words: \", unique)\n",
    "print(\"Frequencies of the non-unique words: \", frequencies)\n",
    "\n"
   ]
  },
  {
   "cell_type": "markdown",
   "id": "94b572a4",
   "metadata": {},
   "source": [
    "# Task3\n",
    "Write a Python program that finds all pairs of elements in a list whose sum is equal to a \n",
    "given value.\n"
   ]
  },
  {
   "cell_type": "code",
   "execution_count": 27,
   "id": "828ee86b",
   "metadata": {},
   "outputs": [
    {
     "name": "stdout",
     "output_type": "stream",
     "text": [
      "Pairs whose sum is 8:  [(0, 8), (1, 7), (2, 6), (3, 5)]\n"
     ]
    }
   ],
   "source": [
    "def sum_k(lst,k):\n",
    "    pairs = []\n",
    "    for  i in range(len(lst)):\n",
    "        for j in range(i + 1 , len(lst)):\n",
    "            if lst[i] + lst[j] == k:\n",
    "                pairs.append((i,j))\n",
    "\n",
    "    return pairs\n",
    "\n",
    "print(\"Pairs whose sum is 8: \", sum_k([0,1,2,3,4,5,6,7,8], 8))\n"
   ]
  },
  {
   "cell_type": "markdown",
   "id": "a5a74b78",
   "metadata": {},
   "source": [
    "# Task4\n",
    "Write a Python program to find the two numbers whose product is maximum among all \n",
    "the pairs in a given list of numbers\n"
   ]
  },
  {
   "cell_type": "code",
   "execution_count": 36,
   "id": "5e422510",
   "metadata": {},
   "outputs": [
    {
     "name": "stdout",
     "output_type": "stream",
     "text": [
      "The two numbers whose product is maximum are:  (6, 7)\n"
     ]
    }
   ],
   "source": [
    "def max_prod(lst):\n",
    "    max = -99999\n",
    "\n",
    "    for  i in range(len(lst)):\n",
    "\n",
    "        for j in range(i + 1, len(lst)):\n",
    "\n",
    "            if lst[j] * lst[i] > max:\n",
    "                max = lst[i] * lst[j]\n",
    "                max_pair = (lst[i],lst[j])\n",
    "\n",
    "    return max_pair\n",
    "\n",
    "print(\"The two numbers whose product is maximum are: \",max_prod([1,2,3,4,5,6,7,2]))"
   ]
  },
  {
   "cell_type": "markdown",
   "id": "26eb9e76",
   "metadata": {},
   "source": [
    "# Task5\n",
    "Write a Python function that takes a number as a parameter and checks whether the \n",
    "number is prime or not."
   ]
  },
  {
   "cell_type": "code",
   "execution_count": 56,
   "id": "73a8cc9e",
   "metadata": {},
   "outputs": [
    {
     "data": {
      "text/plain": [
       "True"
      ]
     },
     "execution_count": 56,
     "metadata": {},
     "output_type": "execute_result"
    }
   ],
   "source": [
    "def is_prime(x):\n",
    "\n",
    "    if x  < 2: return False\n",
    "\n",
    "    if x == 2: return True\n",
    "\n",
    "    for i in range(2, x):\n",
    "\n",
    "        if x % i == 0:\n",
    "            return False\n",
    "        \n",
    "    return True\n",
    "\n",
    "is_prime(13)"
   ]
  },
  {
   "cell_type": "markdown",
   "id": "43e20f1b",
   "metadata": {},
   "source": [
    "# Task6\n",
    "Write a Python function to print the even numbers from a given list.\n",
    "\n",
    "lst = [1, 2, 3, 4, 5, 6, 7, 8, 9]"
   ]
  },
  {
   "cell_type": "code",
   "execution_count": 64,
   "id": "a4c12b6c",
   "metadata": {},
   "outputs": [
    {
     "name": "stdout",
     "output_type": "stream",
     "text": [
      "Even Numbers: \n",
      "2, 4, 6, 8\n"
     ]
    }
   ],
   "source": [
    "lst = [1, 2, 3, 4, 5, 6, 7, 8, 9]\n",
    "\n",
    "def print_even(lst):\n",
    "    even = []\n",
    "    for x in lst:\n",
    "\n",
    "        if x % 2 == 0:\n",
    "            even.append(x)\n",
    "\n",
    "    if even:\n",
    "        print(\"Even Numbers: \")\n",
    "        \n",
    "        for x in even[:-1]:\n",
    "            print(x, end = \", \")\n",
    "\n",
    "        print(even[-1])\n",
    "\n",
    "            \n",
    "    \n",
    "print_even(lst)\n",
    "\n",
    "    "
   ]
  },
  {
   "cell_type": "markdown",
   "id": "f3f345dd",
   "metadata": {},
   "source": [
    "# Task7\n",
    "Write a function that will take a given string and reverse the order of words.\n",
    "Ex:\n",
    "“Hello world” →”world Hello”"
   ]
  },
  {
   "cell_type": "code",
   "execution_count": 66,
   "id": "f197a7fa",
   "metadata": {},
   "outputs": [
    {
     "name": "stdout",
     "output_type": "stream",
     "text": [
      "world Hello \n"
     ]
    }
   ],
   "source": [
    "def reverse_str(string):\n",
    "    words = string.split(\" \")\n",
    "    reversed_string = \"\"\n",
    "\n",
    "    for word in words[::-1]:\n",
    "        reversed_string = reversed_string + word + \" \"\n",
    "        \n",
    "    return reversed_string\n",
    "\n",
    "print(reverse_str(\"Hello world\"))"
   ]
  },
  {
   "cell_type": "markdown",
   "id": "823b3fe1",
   "metadata": {},
   "source": [
    "# Task8\n",
    "Given an integer x, return true if x is a palindrome, and false otherwise.\n",
    "   \n",
    "       Example 1:\n",
    "\n",
    "       Input: x = 121\n",
    "\n",
    "       Output: true\n",
    "\n",
    "       Explanation: 121 reads as 121 from left to right and from right to left.\n",
    "\n",
    "       Example 2:\n",
    "\n",
    "       Input: x = -121\n",
    "\n",
    "       Output: false\n",
    "    Explanation: From left to right, it reads -121. From right to left, it becomes 121-. Therefore, it is not a palindrome.\n",
    "\n",
    "        Example 3:\n",
    "\n",
    "        Input: x = 10\n",
    "\n",
    "        Output: false\n",
    "\n",
    "        Explanation: Reads 01 from right to left. Therefore, it is not a palindrome"
   ]
  },
  {
   "cell_type": "code",
   "execution_count": 81,
   "id": "8ac91aa2",
   "metadata": {},
   "outputs": [
    {
     "name": "stdout",
     "output_type": "stream",
     "text": [
      "Is 12 palindrome :  False\n",
      "Is 121 palindrome :  True\n"
     ]
    }
   ],
   "source": [
    "def is_palindrome(x):\n",
    "    if x < 0:\n",
    "        return False\n",
    "    \n",
    "    elif x < 10:\n",
    "        return True\n",
    "\n",
    "    temp = x\n",
    "    reversed_x = 0\n",
    "    \n",
    "    while temp:\n",
    "        digit = temp % 10\n",
    "        reversed_x = (reversed_x * 10) + digit\n",
    "        temp = temp // 10\n",
    "\n",
    "    return x == reversed_x\n",
    "\n",
    "print(\"Is 12 palindrome : \",is_palindrome(12))\n",
    "print(\"Is 121 palindrome : \",is_palindrome(121))\n",
    "\n"
   ]
  },
  {
   "cell_type": "markdown",
   "id": "84044d94",
   "metadata": {},
   "source": [
    "# Task8\n",
    "Write a Python function that checks whether a passed string is a palindrome or not.\n"
   ]
  },
  {
   "cell_type": "code",
   "execution_count": 88,
   "id": "904ae587",
   "metadata": {},
   "outputs": [
    {
     "name": "stdout",
     "output_type": "stream",
     "text": [
      "Is abcde palindrome :  False\n",
      "Is abccba palindrome :  True\n"
     ]
    }
   ],
   "source": [
    "def is_string_palindrome(string):\n",
    "    reversed_str = string[::-1]\n",
    "\n",
    "    if string == reversed_str:\n",
    "        return True\n",
    "    \n",
    "    else:\n",
    "        return False\n",
    "    \n",
    "print(\"Is abcde palindrome : \",is_string_palindrome(\"abcde\"))\n",
    "print(\"Is abccba palindrome : \",is_string_palindrome(\"abccba\"))"
   ]
  },
  {
   "cell_type": "markdown",
   "id": "4444e26b",
   "metadata": {},
   "source": [
    "# Task9\n",
    "Write a Python function to create and print a list where the values are the squares of numbers \n",
    "between 1 and 30 (both included)."
   ]
  },
  {
   "cell_type": "code",
   "execution_count": 91,
   "id": "4616ef24",
   "metadata": {},
   "outputs": [
    {
     "name": "stdout",
     "output_type": "stream",
     "text": [
      "Squares of Numbers Between 1 and 30\n",
      "1 4 9 16 25 36 49 64 81 100 121 144 169 196 225 256 289 324 361 400 441 484 529 576 625 676 729 784 841 900 "
     ]
    }
   ],
   "source": [
    "def squares_list():\n",
    "    lst = []\n",
    "    print(\"Squares of Numbers Between 1 and 30\")\n",
    "\n",
    "    for i in range(1,31):\n",
    "        lst.append(i**2)\n",
    "        print(i**2 , end=\" \")\n",
    "\n",
    "    return lst\n",
    "\n",
    "lst = squares_list()"
   ]
  },
  {
   "cell_type": "markdown",
   "id": "1358514d",
   "metadata": {},
   "source": [
    "# Task10\n",
    "Write a Python function to generate all permutations of a list."
   ]
  },
  {
   "cell_type": "code",
   "execution_count": 94,
   "id": "8fbf76b3",
   "metadata": {},
   "outputs": [
    {
     "name": "stdout",
     "output_type": "stream",
     "text": [
      "Permutations:\n",
      "[1, 2, 3]\n",
      "[1, 3, 2]\n",
      "[2, 1, 3]\n",
      "[2, 3, 1]\n",
      "[3, 1, 2]\n",
      "[3, 2, 1]\n"
     ]
    }
   ],
   "source": [
    "def generate_permutations(lst):\n",
    "\n",
    "    if len(lst) == 0:\n",
    "        return [[]]  \n",
    "    \n",
    "    elif len(lst) == 1:\n",
    "        return [lst] \n",
    "    \n",
    "    else:\n",
    "        perms = []\n",
    "\n",
    "        for i in range(len(lst)):\n",
    "            first_elem = lst[i]\n",
    "            rest_perms = generate_permutations(lst[:i] + lst[i+1:])\n",
    "            for perm in rest_perms:\n",
    "                perms.append([first_elem] + perm)\n",
    "\n",
    "        return perms\n",
    "\n",
    "lst = generate_permutations([1, 2, 3])\n",
    "print(\"Permutations:\")\n",
    "for perm in lst:\n",
    "    print(perm)\n"
   ]
  },
  {
   "cell_type": "markdown",
   "id": "e7555048",
   "metadata": {},
   "source": [
    "# Task11\n",
    "Write a Python program to access a function inside a function"
   ]
  },
  {
   "cell_type": "code",
   "execution_count": 96,
   "id": "df891ff9",
   "metadata": {},
   "outputs": [
    {
     "name": "stdout",
     "output_type": "stream",
     "text": [
      "Inside Outer Function\n",
      "Inside Inner Function\n"
     ]
    }
   ],
   "source": [
    "def outer():\n",
    "\n",
    "    def inner():\n",
    "        print(\"Inside Inner Function\")\n",
    "    \n",
    "    print(\"Inside Outer Function\")\n",
    "    inner()\n",
    "\n",
    "outer()\n"
   ]
  },
  {
   "cell_type": "markdown",
   "id": "f6c1495a",
   "metadata": {},
   "source": [
    "# Task12\n",
    "After you have finished the third session, can you explain briefly what information was learned and also what information you learned through the search?"
   ]
  },
  {
   "cell_type": "markdown",
   "id": "4aa1f2b3",
   "metadata": {},
   "source": [
    "- **Fibonacci Series using Recursion (Task 1):**\n",
    "  - Learned how to implement the Fibonacci series using recursion. Fibonacci series is a series of numbers in which each number is the sum of the two preceding ones.\n",
    "\n",
    "- **Finding Unique Words and Counting Frequency (Task 2):**\n",
    "  - Learned how to find all unique words and count their frequency of occurrence in a given list of strings. This task involved string manipulation and dictionary operations.\n",
    "\n",
    "- **Finding Pairs with Sum Equal to a Given Value (Task 3):**\n",
    "  - Learned how to find all pairs of elements in a list whose sum is equal to a given value. This task involved list iteration and comparison.\n",
    "\n",
    "- **Finding Maximum Product Pair in a List (Task 4):**\n",
    "  - Learned how to find the two numbers whose product is maximum among all the pairs in a given list of numbers. This task involved nested iteration and comparison.\n",
    "\n",
    "- **Checking Prime Numbers (Task 5):**\n",
    "  - Learned how to write a function to check whether a given number is prime or not. This task involved implementing a basic prime number checking algorithm.\n",
    "\n",
    "- **Printing Even Numbers from a List (Task 6):**\n",
    "  - Learned how to write a function to print the even numbers from a given list. This task involved list iteration and conditional statements.\n",
    "\n",
    "- **Reversing Words in a String (Task 7):**\n",
    "  - Learned how to write a function to reverse the order of words in a given string. This task involved string manipulation and list operations.\n",
    "\n",
    "- **Checking Palindrome Strings (Task 8):**\n",
    "  - Learned how to write a function to check whether a given string is a palindrome or not. This task involved string comparison and manipulation.\n",
    "\n",
    "- **Creating List of Squares of Numbers (Task 9):**\n",
    "  - Learned how to write a function to create and print a list where the values are the squares of numbers between 1 and 30. This task involved list creation and mathematical operations.\n",
    "\n",
    "- **Generating Permutations of a List (Task 10):**\n",
    "  - Learned how to write a function to generate all permutations of a given list. This task involved recursion and list operations.\n",
    "\n",
    "- **Accessing a Function Inside a Function (Task 11):**\n",
    "  - Learned how to define and access a function inside another function. This task demonstrated function scoping and nesting.\n"
   ]
  }
 ],
 "metadata": {
  "kernelspec": {
   "display_name": "Python 3 (ipykernel)",
   "language": "python",
   "name": "python3"
  },
  "language_info": {
   "codemirror_mode": {
    "name": "ipython",
    "version": 3
   },
   "file_extension": ".py",
   "mimetype": "text/x-python",
   "name": "python",
   "nbconvert_exporter": "python",
   "pygments_lexer": "ipython3",
   "version": "3.11.2"
  }
 },
 "nbformat": 4,
 "nbformat_minor": 5
}
