{
 "cells": [
  {
   "cell_type": "markdown",
   "metadata": {},
   "source": [
    "Shopping Cart Class"
   ]
  },
  {
   "cell_type": "code",
   "execution_count": 32,
   "metadata": {},
   "outputs": [],
   "source": [
    "class ShoppingCart:\n",
    "\n",
    "    def __init__(self):\n",
    "        self.items = []\n",
    "\n",
    "    def add_item(self,item_name, quantity):\n",
    "        self.items.append((item_name,quantity))\n",
    "\n",
    "    def remove_item(self, item_name):\n",
    "\n",
    "        for item in self.items:\n",
    "\n",
    "            if item[0].lower( ) == item_name.lower():\n",
    "                self.items.remove(item)\n",
    "                break\n",
    "\n",
    "    def calculate_total(self):\n",
    "        total = 0\n",
    "\n",
    "        for item in self.items:\n",
    "            total += item[1]\n",
    "        \n",
    "        return total\n",
    "    \n",
    "    def print_items(self):\n",
    "        print(\"Item\\tQuantity\")\n",
    "        print(\"-----------------\")\n",
    "\n",
    "        for item in self.items:\n",
    "            print(f\"{item[0]}\\t{item[1]}\")\n",
    "\n",
    "            \n"
   ]
  },
  {
   "cell_type": "code",
   "execution_count": 33,
   "metadata": {},
   "outputs": [
    {
     "name": "stdout",
     "output_type": "stream",
     "text": [
      "Your shopping cart :\n",
      "\n",
      "\n",
      "Item\tQuantity\n",
      "-----------------\n",
      "Oranges\t2\n",
      "Apples\t3\n",
      "Bananas\t4\n",
      "Grapes\t1\n",
      "Total Quantity =  10\n",
      "\n",
      "\n",
      "Your shopping cart after removing Oranges :\n",
      "\n",
      "\n",
      "Item\tQuantity\n",
      "-----------------\n",
      "Apples\t3\n",
      "Bananas\t4\n",
      "Grapes\t1\n",
      "Total Quantity =  8\n"
     ]
    }
   ],
   "source": [
    "cart = ShoppingCart()\n",
    "cart.add_item(\"Oranges\",2)\n",
    "cart.add_item(\"Apples\",3)\n",
    "cart.add_item(\"Bananas\",4)\n",
    "cart.add_item(\"Grapes\",1)\n",
    "\n",
    "print(\"Your shopping cart :\")\n",
    "print(\"\\n\")\n",
    "cart.print_items()\n",
    "print(\"Total Quantity = \",cart.calculate_total())\n",
    "print(\"\\n\")\n",
    "\n",
    "cart.remove_item(\"Oranges\")\n",
    "\n",
    "print(\"Your shopping cart after removing Oranges :\")\n",
    "print(\"\\n\")\n",
    "cart.print_items()\n",
    "print(\"Total Quantity = \",cart.calculate_total())"
   ]
  }
 ],
 "metadata": {
  "kernelspec": {
   "display_name": "Python 3",
   "language": "python",
   "name": "python3"
  },
  "language_info": {
   "codemirror_mode": {
    "name": "ipython",
    "version": 3
   },
   "file_extension": ".py",
   "mimetype": "text/x-python",
   "name": "python",
   "nbconvert_exporter": "python",
   "pygments_lexer": "ipython3",
   "version": "3.11.2"
  }
 },
 "nbformat": 4,
 "nbformat_minor": 2
}
