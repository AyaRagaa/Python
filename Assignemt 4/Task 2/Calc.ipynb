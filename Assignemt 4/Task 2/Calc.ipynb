{
 "cells": [
  {
   "cell_type": "code",
   "execution_count": 22,
   "metadata": {},
   "outputs": [],
   "source": [
    "class Calc:\n",
    "\n",
    "    @staticmethod\n",
    "    def add(*args):\n",
    "\n",
    "        if len(args) == 0:\n",
    "            return 0\n",
    "        \n",
    "        elif len(args) == 1:\n",
    "            return args[0]\n",
    "        \n",
    "        else:\n",
    "            return sum(args)\n",
    "    \n",
    "    @staticmethod\n",
    "    def mul(*args):\n",
    "\n",
    "        if len(args) == 0:\n",
    "            return 0\n",
    "            \n",
    "        elif len(args) == 1:\n",
    "            return args[0]\n",
    "        \n",
    "        else:\n",
    "            result = 1\n",
    "\n",
    "            for arg in args:\n",
    "                result *= arg\n",
    "\n",
    "            return result\n",
    "    \n",
    "    @staticmethod\n",
    "    def div(x, y):\n",
    "\n",
    "        if y == 0:\n",
    "            return \"Error Division by zero !!\"\n",
    "        \n",
    "        else:\n",
    "            return x / y\n",
    "        \n",
    "    @staticmethod\n",
    "    def sub(x, y):\n",
    "        return x - y\n"
   ]
  },
  {
   "cell_type": "code",
   "execution_count": 23,
   "metadata": {},
   "outputs": [
    {
     "name": "stdout",
     "output_type": "stream",
     "text": [
      "Adding 1,2 =  3\n",
      "Adding 1,2,3,4 =  10\n",
      "Multiplying 1,2 =  2\n",
      "Multiplying 1,2,3,4 =  24\n",
      "Dividing 1,0 =  Error Division by zero !!\n",
      "Dividing 1,2 =  0.5\n",
      "Subracting 1,2 =  -1\n",
      "Subracting 2,1 =  1\n"
     ]
    }
   ],
   "source": [
    "print(\"Adding 1,2 = \",Calc.add(1,2))\n",
    "print(\"Adding 1,2,3,4 = \",Calc.add(1,2,3,4))\n",
    "print(\"Multiplying 1,2 = \",Calc.mul(1,2))\n",
    "print(\"Multiplying 1,2,3,4 = \",Calc.mul(1,2,3,4))\n",
    "print(\"Dividing 1,0 = \", Calc.div(1,0))\n",
    "print(\"Dividing 1,2 = \", Calc.div(1,2))\n",
    "print(\"Subracting 1,2 = \",Calc.sub(1,2) )\n",
    "print(\"Subracting 2,1 = \",Calc.sub(2,1) )"
   ]
  }
 ],
 "metadata": {
  "kernelspec": {
   "display_name": "Python 3",
   "language": "python",
   "name": "python3"
  },
  "language_info": {
   "codemirror_mode": {
    "name": "ipython",
    "version": 3
   },
   "file_extension": ".py",
   "mimetype": "text/x-python",
   "name": "python",
   "nbconvert_exporter": "python",
   "pygments_lexer": "ipython3",
   "version": "3.11.2"
  }
 },
 "nbformat": 4,
 "nbformat_minor": 2
}
