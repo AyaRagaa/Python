{
 "cells": [
  {
   "cell_type": "code",
   "execution_count": 1,
   "metadata": {},
   "outputs": [],
   "source": [
    "t = (1, 2, 3, 4, 5, 6, 7, 8, 9) \n",
    "\n",
    "def print_even_and_odd(t):\n",
    "    f = open(\"even_odd.txt\",'w')\n",
    "    even = []\n",
    "    odd = []\n",
    "\n",
    "    for i in t:\n",
    "\n",
    "        if i % 2 == 0:\n",
    "            even.append(i)\n",
    "\n",
    "        else:\n",
    "            odd.append(i)\n",
    "\n",
    "    if even:\n",
    "        f.write(\"Number of even numbers : \")\n",
    "\n",
    "        if len(even) >  1:\n",
    "            for i in range(len(even) - 1):\n",
    "                f.write(f\"{even[i]}, \")\n",
    "\n",
    "            i += 1\n",
    "            f.write(f\"{even[i]}\\n\")\n",
    "\n",
    "        else:\n",
    "            f.write(f\"{even[0]}\\n\")\n",
    "          \n",
    "    if odd:\n",
    "        f.write(\"Number of odd numbers : \")\n",
    "\n",
    "        if len(odd) >  1:\n",
    "            for i in range(len(odd) - 1):\n",
    "                f.write(f\"{odd[i]}, \")\n",
    "\n",
    "            i += 1\n",
    "            f.write(f\"{odd[i]}\")\n",
    "\n",
    "        else:\n",
    "            f.write(f\"{odd[0]}\\n\")\n",
    "\n",
    "print_even_and_odd(t)"
   ]
  }
 ],
 "metadata": {
  "kernelspec": {
   "display_name": "Python 3",
   "language": "python",
   "name": "python3"
  },
  "language_info": {
   "codemirror_mode": {
    "name": "ipython",
    "version": 3
   },
   "file_extension": ".py",
   "mimetype": "text/x-python",
   "name": "python",
   "nbconvert_exporter": "python",
   "pygments_lexer": "ipython3",
   "version": "3.11.2"
  }
 },
 "nbformat": 4,
 "nbformat_minor": 2
}
