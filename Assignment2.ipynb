{
 "cells": [
  {
   "cell_type": "markdown",
   "id": "3c7a8819",
   "metadata": {},
   "source": [
    "# Task1\n",
    "Write a Python program to add an item to a tuple."
   ]
  },
  {
   "cell_type": "code",
   "execution_count": 2,
   "id": "7bf26def",
   "metadata": {},
   "outputs": [
    {
     "name": "stdout",
     "output_type": "stream",
     "text": [
      "(1, 2, 3, 4)\n"
     ]
    }
   ],
   "source": [
    "t = (1, 2, 3)\n",
    "def addItem(t,x):\n",
    "    l=list(t)\n",
    "    l.append(x)\n",
    "    return tuple(l)\n",
    "\n",
    "print(addItem(t,4))"
   ]
  },
  {
   "cell_type": "markdown",
   "id": "a2932652",
   "metadata": {},
   "source": [
    "# Task2\n",
    "Write a Python program to sum all the items in a list."
   ]
  },
  {
   "cell_type": "code",
   "execution_count": 3,
   "id": "17cc806d",
   "metadata": {},
   "outputs": [
    {
     "name": "stdout",
     "output_type": "stream",
     "text": [
      "6\n"
     ]
    }
   ],
   "source": [
    "l = [1,2,3]\n",
    "\n",
    "print(sum(l))"
   ]
  },
  {
   "cell_type": "markdown",
   "id": "9439fccd",
   "metadata": {},
   "source": [
    "# Task3\n",
    "Write a Python program to multiply all the items in a list."
   ]
  },
  {
   "cell_type": "code",
   "execution_count": 6,
   "id": "7bd57bb5",
   "metadata": {},
   "outputs": [
    {
     "name": "stdout",
     "output_type": "stream",
     "text": [
      "24\n"
     ]
    }
   ],
   "source": [
    "l = [1,2,3,4]\n",
    "def mulList(l):\n",
    "    res = 1\n",
    "\n",
    "    for i in range(len(l)):\n",
    "        res *= l[i]\n",
    "\n",
    "    return res\n",
    "\n",
    "print(mulList(l))"
   ]
  },
  {
   "cell_type": "markdown",
   "id": "1fef85c3",
   "metadata": {},
   "source": [
    "# Task4\n",
    "Write a Python program to get the smallest number from a list."
   ]
  },
  {
   "cell_type": "code",
   "execution_count": 8,
   "id": "c77b606c",
   "metadata": {},
   "outputs": [
    {
     "name": "stdout",
     "output_type": "stream",
     "text": [
      "1\n"
     ]
    }
   ],
   "source": [
    "l = [1,2,3,4]\n",
    "\n",
    "print(min(l))"
   ]
  },
  {
   "cell_type": "markdown",
   "id": "0d287243",
   "metadata": {},
   "source": [
    "# Task5\n",
    "Write a Python program to get the largest number from a list."
   ]
  },
  {
   "cell_type": "code",
   "execution_count": 9,
   "id": "29bf3a84",
   "metadata": {},
   "outputs": [
    {
     "name": "stdout",
     "output_type": "stream",
     "text": [
      "4\n"
     ]
    }
   ],
   "source": [
    "l = [1,2,3,4]\n",
    "\n",
    "print(max(l))"
   ]
  },
  {
   "cell_type": "markdown",
   "id": "b2350932",
   "metadata": {},
   "source": [
    "# Task6 \n",
    "Write a Python program to count the number of strings from a given list of \n",
    "strings."
   ]
  },
  {
   "cell_type": "code",
   "execution_count": 22,
   "id": "e73356bd",
   "metadata": {},
   "outputs": [
    {
     "name": "stdout",
     "output_type": "stream",
     "text": [
      "Number of Strings in  [1, 2, 3, 4, 'Aya', 'Amr', 'Ragaa']  is  3\n"
     ]
    }
   ],
   "source": [
    "def count_strings(l):\n",
    "    c = 0\n",
    "\n",
    "    for x in l:\n",
    "\n",
    "        if isinstance(x, str):\n",
    "            c += 1\n",
    "\n",
    "    return c\n",
    "\n",
    "l = [1,2,3,4,\"Aya\",\"Amr\",\"Ragaa\"]\n",
    "print(\"Number of Strings in \",l ,\" is \",count_strings(l))\n"
   ]
  },
  {
   "cell_type": "markdown",
   "id": "1eacc78b",
   "metadata": {},
   "source": [
    "# Task7\n",
    "Write a Python program to clone or copy a list"
   ]
  },
  {
   "cell_type": "code",
   "execution_count": 12,
   "id": "63bbc455",
   "metadata": {},
   "outputs": [
    {
     "name": "stdout",
     "output_type": "stream",
     "text": [
      "1953342945472\n",
      "1953342945472\n"
     ]
    }
   ],
   "source": [
    "l = [1,2,3,4]\n",
    "l2 = l.copy\n",
    "print(id(l))\n",
    "print(id(l2))"
   ]
  },
  {
   "cell_type": "markdown",
   "id": "449d71c4",
   "metadata": {},
   "source": [
    "# Task8\n",
    "Write a Python program to remove item(s) from a given set.\n",
    "\n",
    "s = set([0, 1, 3, 4, 5])"
   ]
  },
  {
   "cell_type": "code",
   "execution_count": 19,
   "id": "2593788e",
   "metadata": {},
   "outputs": [
    {
     "data": {
      "text/plain": [
       "{0, 4, 5}"
      ]
     },
     "execution_count": 19,
     "metadata": {},
     "output_type": "execute_result"
    }
   ],
   "source": [
    "s = set([0, 1, 3, 4, 5])\n",
    "\n",
    "def remove_items(s,l):\n",
    "\n",
    "    for x in l:\n",
    "        if x in s:\n",
    "            s.remove(x)\n",
    "\n",
    "remove_items(s,[1,2,3])\n",
    "s"
   ]
  },
  {
   "cell_type": "markdown",
   "id": "f90c349e",
   "metadata": {},
   "source": [
    "# Task9\n",
    "Write a Python program to find the maximum and minimum values in a set."
   ]
  },
  {
   "cell_type": "code",
   "execution_count": 20,
   "id": "6f6e62b0",
   "metadata": {},
   "outputs": [
    {
     "name": "stdout",
     "output_type": "stream",
     "text": [
      "Min =  0\n",
      "Max =  5\n"
     ]
    }
   ],
   "source": [
    "s = set([0, 1, 3, 4, 5])\n",
    "\n",
    "print(\"Min = \",min(s))\n",
    "print(\"Max = \",max(s))"
   ]
  },
  {
   "cell_type": "markdown",
   "id": "a151e82a",
   "metadata": {},
   "source": [
    "# Task10\n",
    "Write a Python program to convert a tuple to a dictionary."
   ]
  },
  {
   "cell_type": "code",
   "execution_count": 24,
   "id": "1c606999",
   "metadata": {},
   "outputs": [
    {
     "data": {
      "text/plain": [
       "{0: 'a', 1: 'b', 2: 'c'}"
      ]
     },
     "execution_count": 24,
     "metadata": {},
     "output_type": "execute_result"
    }
   ],
   "source": [
    "t = ('a','b','c')\n",
    "def tuple_to_dict(t):\n",
    "    dict = {}\n",
    "    \n",
    "    for i in range(len(t)):\n",
    "        key = i\n",
    "        value = t[i]\n",
    "        dict[key] = value\n",
    "    \n",
    "    return dict\n",
    "\n",
    "d = tuple_to_dict(t)\n",
    "d"
   ]
  },
  {
   "cell_type": "markdown",
   "id": "c8132b1b",
   "metadata": {},
   "source": [
    "# Task11\n",
    "Write a Python program to reverse a tuple."
   ]
  },
  {
   "cell_type": "code",
   "execution_count": 28,
   "id": "49a882d8",
   "metadata": {},
   "outputs": [
    {
     "data": {
      "text/plain": [
       "(3, 2, 1)"
      ]
     },
     "execution_count": 28,
     "metadata": {},
     "output_type": "execute_result"
    }
   ],
   "source": [
    "t = (1, 2, 3)\n",
    "t_rev = t[ : : -1]\n",
    "t_rev"
   ]
  },
  {
   "cell_type": "markdown",
   "id": "6c062c85",
   "metadata": {},
   "source": [
    "# Task12\n",
    "Write a Python program to convert a list of tuples into a dictionary"
   ]
  },
  {
   "cell_type": "code",
   "execution_count": 30,
   "id": "c3b21d48",
   "metadata": {},
   "outputs": [
    {
     "data": {
      "text/plain": [
       "{0: (1, 2, 3), 1: (4, 5, 6), 2: (7, 8, 9)}"
      ]
     },
     "execution_count": 30,
     "metadata": {},
     "output_type": "execute_result"
    }
   ],
   "source": [
    "l_of_t = [(1,2,3),(4,5,6),(7,8,9)]\n",
    "\n",
    "def list_of_tuples_to_dict(l_of_t):\n",
    "    dict = {}\n",
    "    i = 0\n",
    "\n",
    "    for t in l_of_t:\n",
    "        dict[i] = t\n",
    "        i += 1\n",
    "    \n",
    "    return dict\n",
    "\n",
    "d = list_of_tuples_to_dict(l_of_t)\n",
    "d"
   ]
  },
  {
   "cell_type": "markdown",
   "id": "2133456d",
   "metadata": {},
   "source": [
    "# Task13\n",
    "Write a Python program to replace the last value of tuples in a list.\n",
    "\n",
    "Sample list: [(10, 20, 40), (40, 50, 60), (70, 80, 90)]\n",
    "\n",
    "Expected Output: [(10, 20, 100), (40, 50, 100), (70, 80, 100)]\n"
   ]
  },
  {
   "cell_type": "code",
   "execution_count": 32,
   "id": "de535d71",
   "metadata": {},
   "outputs": [
    {
     "data": {
      "text/plain": [
       "[(10, 20, 100), (40, 50, 100), (70, 80, 100)]"
      ]
     },
     "execution_count": 32,
     "metadata": {},
     "output_type": "execute_result"
    }
   ],
   "source": [
    "l = [(10, 20, 40), (40, 50, 60), (70, 80, 90)]\n",
    "def replace_last(l):\n",
    "    i = 0\n",
    "\n",
    "    for t in l:\n",
    "        temp = list(t)\n",
    "        temp[-1] = 100\n",
    "        x = tuple(temp)\n",
    "        l[i] = x\n",
    "        i += 1\n",
    "\n",
    "replace_last(l)\n",
    "l"
   ]
  },
  {
   "cell_type": "markdown",
   "id": "076336bc",
   "metadata": {},
   "source": [
    "# Task14\n",
    "Remove the illegal characters in the variable name:\n",
    "\n",
    "var_name = \"%%6student_name$^$%#\"\n",
    "\n",
    "illegal_chars = \"0123456789!@#$%^&*()-+=[]{}|\\\\;:'\\\",.<>/?~\"\n",
    "\n",
    "output is \"student_name\""
   ]
  },
  {
   "cell_type": "code",
   "execution_count": 35,
   "id": "c377b33b",
   "metadata": {},
   "outputs": [
    {
     "data": {
      "text/plain": [
       "'student_name'"
      ]
     },
     "execution_count": 35,
     "metadata": {},
     "output_type": "execute_result"
    }
   ],
   "source": [
    "var_name = \"%%6student_name$^$%#\"\n",
    "\n",
    "illegal_chars = \"0123456789!@#$%^&*()-+=[]{}|\\\\;:'\\\",.<>/?~\"\n",
    "\n",
    "def remove_illegal_char(name, illegal_chars):\n",
    "    res = \"\"\n",
    "\n",
    "    for c in name:\n",
    "        if c not in illegal_chars:\n",
    "\n",
    "            res += c\n",
    "    return res\n",
    "\n",
    "res = remove_illegal_char(var_name, illegal_chars)\n",
    "res"
   ]
  },
  {
   "cell_type": "markdown",
   "id": "46bd77d7",
   "metadata": {},
   "source": [
    "# Task15\n",
    "Write a Python program to print the even and odd numbers in a series of numbers\n",
    "\n",
    "Sample numbers : numbers = (1, 2, 3, 4, 5, 6, 7, 8, 9) \n",
    "    \n",
    "Expected Output :\n",
    "    \n",
    "Number of even numbers : 2,4,6,8\n",
    "    \n",
    "Number of odd numbers : 1,3,5,7,9"
   ]
  },
  {
   "cell_type": "code",
   "execution_count": 52,
   "id": "924d0873",
   "metadata": {},
   "outputs": [
    {
     "name": "stdout",
     "output_type": "stream",
     "text": [
      "Number of even numbers : 2, 4, 6, 8\n",
      "Number of odd numbers : 1, 3, 5, 7, 9"
     ]
    }
   ],
   "source": [
    "t = (1, 2, 3, 4, 5, 6, 7, 8, 9) \n",
    "\n",
    "def print_even_and_odd(t):\n",
    "    even = []\n",
    "    odd = []\n",
    "\n",
    "    for i in t:\n",
    "\n",
    "        if i % 2 == 0:\n",
    "            even.append(i)\n",
    "\n",
    "        else:\n",
    "            odd.append(i)\n",
    "\n",
    "    if even:\n",
    "        print(\"Number of even numbers : \", end = \"\")\n",
    "\n",
    "        if len(even) >  1:\n",
    "            for i in range(len(even) - 1):\n",
    "                print(even[i], end = \", \")\n",
    "\n",
    "            i += 1\n",
    "            print(even[i])\n",
    "\n",
    "        else:\n",
    "            print(even[0])\n",
    "          \n",
    "    if odd:\n",
    "        print(\"Number of odd numbers : \", end = \"\")\n",
    "\n",
    "        if len(odd) >  1:\n",
    "            for i in range(len(odd) - 1):\n",
    "                print(odd[i], end = \", \")\n",
    "\n",
    "            i += 1\n",
    "            print(odd[i], end = \"\")\n",
    "\n",
    "        else:\n",
    "            print(odd[0])\n",
    "\n",
    "print_even_and_odd(t)"
   ]
  },
  {
   "cell_type": "markdown",
   "id": "0f8fce9c",
   "metadata": {},
   "source": [
    "# Task16\n",
    "Write a Python program that iterates the integers from 1 to 50. For multiples of three print \"Fizz\" instead of the number and for multiples of five print \"Buzz\". For numbers that are multiples of three and five, print \"FizzBuzz\"."
   ]
  },
  {
   "cell_type": "code",
   "execution_count": 53,
   "id": "5985952d",
   "metadata": {},
   "outputs": [
    {
     "name": "stdout",
     "output_type": "stream",
     "text": [
      "1\n",
      "2\n",
      "Fizz\n",
      "4\n",
      "Buzz\n",
      "Fizz\n",
      "7\n",
      "8\n",
      "Fizz\n",
      "Buzz\n",
      "11\n",
      "Fizz\n",
      "13\n",
      "14\n",
      "FizzBuzz\n",
      "16\n",
      "17\n",
      "Fizz\n",
      "19\n",
      "Buzz\n",
      "Fizz\n",
      "22\n",
      "23\n",
      "Fizz\n",
      "Buzz\n",
      "26\n",
      "Fizz\n",
      "28\n",
      "29\n",
      "FizzBuzz\n",
      "31\n",
      "32\n",
      "Fizz\n",
      "34\n",
      "Buzz\n",
      "Fizz\n",
      "37\n",
      "38\n",
      "Fizz\n",
      "Buzz\n",
      "41\n",
      "Fizz\n",
      "43\n",
      "44\n",
      "FizzBuzz\n",
      "46\n",
      "47\n",
      "Fizz\n",
      "49\n",
      "Buzz\n"
     ]
    }
   ],
   "source": [
    "for i in range(1,51):\n",
    "\n",
    "    if i % 3 == 0 and i % 5 == 0:\n",
    "        print(\"FizzBuzz\")\n",
    "\n",
    "    elif i % 3 == 0:\n",
    "        print(\"Fizz\")\n",
    "\n",
    "    elif i % 5 == 0:\n",
    "        print(\"Buzz\")\n",
    "\n",
    "    else:\n",
    "        print(i)"
   ]
  },
  {
   "cell_type": "markdown",
   "id": "504dee61",
   "metadata": {},
   "source": [
    "# Task17\n",
    "After you have finished the second session, can you explain briefly what information was learned and also what information you learned through the search?"
   ]
  },
  {
   "cell_type": "markdown",
   "id": "4711a851",
   "metadata": {},
   "source": [
    "- Python Syntax and Built-in Functions: Understanding basic Python syntax and built-in functions like print(), len(), range(), min(), max(), etc.\n",
    "\n",
    "- Data Structures: Learning about tuples, lists, sets, and dictionaries in Python and their respective properties and operations\n",
    "\n",
    "- Control Structures: Understanding control structures like loops (for and while), conditional statements (if, elif, else), and how they are used.\n",
    "\n",
    "- String Manipulation: Performing basic string manipulation operations like checking for character existence.\n",
    "\n",
    "- Immutable vs. Mutable: Learning about the difference between immutable objects (like tuples and strings) and mutable objects (like lists and dictionaries) in Python.\n",
    "\n",
    "- Python Built-in Functions: Discovering additional built-in functions and their uses, such as isinstance(), remove(), copy(), etc.\n",
    "\n",
    "- Iterators and Generators: Understanding iterators and generators for efficient looping over data structures in Python."
   ]
  }
 ],
 "metadata": {
  "kernelspec": {
   "display_name": "Python 3 (ipykernel)",
   "language": "python",
   "name": "python3"
  },
  "language_info": {
   "codemirror_mode": {
    "name": "ipython",
    "version": 3
   },
   "file_extension": ".py",
   "mimetype": "text/x-python",
   "name": "python",
   "nbconvert_exporter": "python",
   "pygments_lexer": "ipython3",
   "version": "3.11.2"
  }
 },
 "nbformat": 4,
 "nbformat_minor": 5
}
